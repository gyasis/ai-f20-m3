{
 "cells": [
  {
   "cell_type": "markdown",
   "metadata": {},
   "source": [
    "***Support Vector Machines***\n",
    "    Using SVM with Python to predict whether a breast cancer tumor is malignant or benign. Exercise uses numpy, pandas, and scikitlearn and utilizes train test split, SVM, SVC,  and GridSearch to identify the best parameters for prediction."
   ]
  },
  {
   "cell_type": "code",
   "execution_count": 1,
   "metadata": {},
   "outputs": [],
   "source": [
    "import pandas as pd\n",
    "import numpy as np\n",
    "import matplotlib.pyplot as plt\n",
    "import seaborn as sns\n",
    "%matplotlib inline\n",
    "%load_ext autotime"
   ]
  },
  {
   "cell_type": "code",
   "execution_count": 2,
   "metadata": {},
   "outputs": [],
   "source": [
    "from sklearn.datasets import load_breast_cancer"
   ]
  },
  {
   "cell_type": "code",
   "execution_count": 3,
   "metadata": {},
   "outputs": [],
   "source": [
    "cancer = load_breast_cancer()"
   ]
  },
  {
   "cell_type": "code",
   "execution_count": 4,
   "metadata": {},
   "outputs": [
    {
     "output_type": "execute_result",
     "data": {
      "text/plain": [
       "dict_keys(['data', 'target', 'frame', 'target_names', 'DESCR', 'feature_names', 'filename'])"
      ]
     },
     "metadata": {},
     "execution_count": 4
    }
   ],
   "source": [
    "cancer.keys()"
   ]
  },
  {
   "cell_type": "code",
   "execution_count": 5,
   "metadata": {},
   "outputs": [
    {
     "output_type": "stream",
     "name": "stdout",
     "text": [
      ".. _breast_cancer_dataset:\n\nBreast cancer wisconsin (diagnostic) dataset\n--------------------------------------------\n\n**Data Set Characteristics:**\n\n    :Number of Instances: 569\n\n    :Number of Attributes: 30 numeric, predictive attributes and the class\n\n    :Attribute Information:\n        - radius (mean of distances from center to points on the perimeter)\n        - texture (standard deviation of gray-scale values)\n        - perimeter\n        - area\n        - smoothness (local variation in radius lengths)\n        - compactness (perimeter^2 / area - 1.0)\n        - concavity (severity of concave portions of the contour)\n        - concave points (number of concave portions of the contour)\n        - symmetry\n        - fractal dimension (\"coastline approximation\" - 1)\n\n        The mean, standard error, and \"worst\" or largest (mean of the three\n        worst/largest values) of these features were computed for each image,\n        resulting in 30 features.  For instance, field 0 is Mean Radius, field\n        10 is Radius SE, field 20 is Worst Radius.\n\n        - class:\n                - WDBC-Malignant\n                - WDBC-Benign\n\n    :Summary Statistics:\n\n    ===================================== ====== ======\n                                           Min    Max\n    ===================================== ====== ======\n    radius (mean):                        6.981  28.11\n    texture (mean):                       9.71   39.28\n    perimeter (mean):                     43.79  188.5\n    area (mean):                          143.5  2501.0\n    smoothness (mean):                    0.053  0.163\n    compactness (mean):                   0.019  0.345\n    concavity (mean):                     0.0    0.427\n    concave points (mean):                0.0    0.201\n    symmetry (mean):                      0.106  0.304\n    fractal dimension (mean):             0.05   0.097\n    radius (standard error):              0.112  2.873\n    texture (standard error):             0.36   4.885\n    perimeter (standard error):           0.757  21.98\n    area (standard error):                6.802  542.2\n    smoothness (standard error):          0.002  0.031\n    compactness (standard error):         0.002  0.135\n    concavity (standard error):           0.0    0.396\n    concave points (standard error):      0.0    0.053\n    symmetry (standard error):            0.008  0.079\n    fractal dimension (standard error):   0.001  0.03\n    radius (worst):                       7.93   36.04\n    texture (worst):                      12.02  49.54\n    perimeter (worst):                    50.41  251.2\n    area (worst):                         185.2  4254.0\n    smoothness (worst):                   0.071  0.223\n    compactness (worst):                  0.027  1.058\n    concavity (worst):                    0.0    1.252\n    concave points (worst):               0.0    0.291\n    symmetry (worst):                     0.156  0.664\n    fractal dimension (worst):            0.055  0.208\n    ===================================== ====== ======\n\n    :Missing Attribute Values: None\n\n    :Class Distribution: 212 - Malignant, 357 - Benign\n\n    :Creator:  Dr. William H. Wolberg, W. Nick Street, Olvi L. Mangasarian\n\n    :Donor: Nick Street\n\n    :Date: November, 1995\n\nThis is a copy of UCI ML Breast Cancer Wisconsin (Diagnostic) datasets.\nhttps://goo.gl/U2Uwz2\n\nFeatures are computed from a digitized image of a fine needle\naspirate (FNA) of a breast mass.  They describe\ncharacteristics of the cell nuclei present in the image.\n\nSeparating plane described above was obtained using\nMultisurface Method-Tree (MSM-T) [K. P. Bennett, \"Decision Tree\nConstruction Via Linear Programming.\" Proceedings of the 4th\nMidwest Artificial Intelligence and Cognitive Science Society,\npp. 97-101, 1992], a classification method which uses linear\nprogramming to construct a decision tree.  Relevant features\nwere selected using an exhaustive search in the space of 1-4\nfeatures and 1-3 separating planes.\n\nThe actual linear program used to obtain the separating plane\nin the 3-dimensional space is that described in:\n[K. P. Bennett and O. L. Mangasarian: \"Robust Linear\nProgramming Discrimination of Two Linearly Inseparable Sets\",\nOptimization Methods and Software 1, 1992, 23-34].\n\nThis database is also available through the UW CS ftp server:\n\nftp ftp.cs.wisc.edu\ncd math-prog/cpo-dataset/machine-learn/WDBC/\n\n.. topic:: References\n\n   - W.N. Street, W.H. Wolberg and O.L. Mangasarian. Nuclear feature extraction \n     for breast tumor diagnosis. IS&T/SPIE 1993 International Symposium on \n     Electronic Imaging: Science and Technology, volume 1905, pages 861-870,\n     San Jose, CA, 1993.\n   - O.L. Mangasarian, W.N. Street and W.H. Wolberg. Breast cancer diagnosis and \n     prognosis via linear programming. Operations Research, 43(4), pages 570-577, \n     July-August 1995.\n   - W.H. Wolberg, W.N. Street, and O.L. Mangasarian. Machine learning techniques\n     to diagnose breast cancer from fine-needle aspirates. Cancer Letters 77 (1994) \n     163-171.\n"
     ]
    }
   ],
   "source": [
    "print(cancer['DESCR'])"
   ]
  },
  {
   "cell_type": "code",
   "execution_count": 5,
   "metadata": {},
   "outputs": [
    {
     "output_type": "execute_result",
     "data": {
      "text/plain": [
       "array(['mean radius', 'mean texture', 'mean perimeter', 'mean area',\n",
       "       'mean smoothness', 'mean compactness', 'mean concavity',\n",
       "       'mean concave points', 'mean symmetry', 'mean fractal dimension',\n",
       "       'radius error', 'texture error', 'perimeter error', 'area error',\n",
       "       'smoothness error', 'compactness error', 'concavity error',\n",
       "       'concave points error', 'symmetry error',\n",
       "       'fractal dimension error', 'worst radius', 'worst texture',\n",
       "       'worst perimeter', 'worst area', 'worst smoothness',\n",
       "       'worst compactness', 'worst concavity', 'worst concave points',\n",
       "       'worst symmetry', 'worst fractal dimension'], dtype='<U23')"
      ]
     },
     "metadata": {},
     "execution_count": 5
    }
   ],
   "source": [
    "cancer['feature_names']"
   ]
  },
  {
   "cell_type": "code",
   "execution_count": 6,
   "metadata": {},
   "outputs": [
    {
     "output_type": "stream",
     "name": "stdout",
     "text": [
      "<class 'pandas.core.frame.DataFrame'>\nRangeIndex: 569 entries, 0 to 568\nData columns (total 30 columns):\n #   Column                   Non-Null Count  Dtype  \n---  ------                   --------------  -----  \n 0   mean radius              569 non-null    float64\n 1   mean texture             569 non-null    float64\n 2   mean perimeter           569 non-null    float64\n 3   mean area                569 non-null    float64\n 4   mean smoothness          569 non-null    float64\n 5   mean compactness         569 non-null    float64\n 6   mean concavity           569 non-null    float64\n 7   mean concave points      569 non-null    float64\n 8   mean symmetry            569 non-null    float64\n 9   mean fractal dimension   569 non-null    float64\n 10  radius error             569 non-null    float64\n 11  texture error            569 non-null    float64\n 12  perimeter error          569 non-null    float64\n 13  area error               569 non-null    float64\n 14  smoothness error         569 non-null    float64\n 15  compactness error        569 non-null    float64\n 16  concavity error          569 non-null    float64\n 17  concave points error     569 non-null    float64\n 18  symmetry error           569 non-null    float64\n 19  fractal dimension error  569 non-null    float64\n 20  worst radius             569 non-null    float64\n 21  worst texture            569 non-null    float64\n 22  worst perimeter          569 non-null    float64\n 23  worst area               569 non-null    float64\n 24  worst smoothness         569 non-null    float64\n 25  worst compactness        569 non-null    float64\n 26  worst concavity          569 non-null    float64\n 27  worst concave points     569 non-null    float64\n 28  worst symmetry           569 non-null    float64\n 29  worst fractal dimension  569 non-null    float64\ndtypes: float64(30)\nmemory usage: 133.5 KB\n"
     ]
    }
   ],
   "source": [
    "df_feat = pd.DataFrame(cancer['data'],columns=cancer['feature_names'])\n",
    "df_feat.info()"
   ]
  },
  {
   "cell_type": "code",
   "execution_count": 13,
   "metadata": {},
   "outputs": [
    {
     "output_type": "stream",
     "name": "stdout",
     "text": [
      "time: 1.34 ms\n"
     ]
    }
   ],
   "source": [
    "df_target = pd.DataFrame(cancer['target'],columns=['Cancer'])\n",
    "df_extra = df_target.astype('str')"
   ]
  },
  {
   "cell_type": "code",
   "execution_count": 14,
   "metadata": {},
   "outputs": [
    {
     "output_type": "stream",
     "name": "stdout",
     "text": [
      "<class 'pandas.core.frame.DataFrame'>\ntime: 1.5 ms\n"
     ]
    }
   ],
   "source": [
    "vis_df = pd.concat([df_feat,df_extra], axis = 1)\n",
    "print(type(vis_df))\n",
    "\n",
    "\n",
    "\n"
   ]
  },
  {
   "cell_type": "code",
   "execution_count": 15,
   "metadata": {},
   "outputs": [
    {
     "output_type": "stream",
     "name": "stderr",
     "text": [
      "/home/gyasis/anaconda3/envs/datasci/lib/python3.7/site-packages/seaborn/axisgrid.py:1969: UserWarning: The `size` parameter has been renamed to `height`; please update your code.\n  warnings.warn(msg, UserWarning)\n"
     ]
    }
   ],
   "source": [
    "\n",
    "\n",
    "### extra cell for visual analysis\n",
    "\n",
    "\n",
    "import seaborn as sns\n",
    "import matplotlib.pyplot as plt\n",
    "sns.set(rc={'figure.figsize':(14.08,12.68)})\n",
    "sns.pairplot(vis_df, hue='Cancer', diag_kind= 'kde', plot_kws = {'alpha':0.6, 's': 80, 'edgecolor': 'k'}, size = 4)\n",
    "\n",
    "plt.savefig('big_comparison.png')"
   ]
  },
  {
   "cell_type": "code",
   "execution_count": 21,
   "metadata": {},
   "outputs": [
    {
     "output_type": "stream",
     "name": "stdout",
     "text": [
      "time: 10.8 ms\n"
     ]
    }
   ],
   "source": [
    "#Train test split\n",
    "from sklearn.model_selection import train_test_split\n",
    "X_train, X_test, y_train, y_test = train_test_split(df_feat, df_target, test_size = 0.20, random_state=0)\n",
    "\n",
    "\n",
    "from sklearn.preprocessing import StandardScaler\n",
    "scaler = StandardScaler()\n",
    "scaler.fit(X_train)\n",
    "\n",
    "X_train = scaler.transform(X_train)\n",
    "X_test = scaler.transform(X_test)"
   ]
  },
  {
   "cell_type": "code",
   "execution_count": 22,
   "metadata": {},
   "outputs": [
    {
     "output_type": "stream",
     "name": "stdout",
     "text": [
      "time: 639 µs\n"
     ]
    }
   ],
   "source": [
    "#Train the support vector classifier\n",
    "from sklearn import svm\n",
    "from sklearn.svm import SVC\n",
    "svclassifier = SVC(kernel='poly')"
   ]
  },
  {
   "cell_type": "code",
   "execution_count": 23,
   "metadata": {},
   "outputs": [
    {
     "output_type": "stream",
     "name": "stdout",
     "text": [
      "[[36 11]\n",
      " [ 0 67]]\n",
      "              precision    recall  f1-score   support\n",
      "\n",
      "           0       1.00      0.77      0.87        47\n",
      "           1       0.86      1.00      0.92        67\n",
      "\n",
      "    accuracy                           0.90       114\n",
      "   macro avg       0.93      0.88      0.90       114\n",
      "weighted avg       0.92      0.90      0.90       114\n",
      "\n",
      "time: 36.7 ms\n",
      "/home/gyasis/anaconda3/envs/datasci/lib/python3.7/site-packages/sklearn/utils/validation.py:63: DataConversionWarning: A column-vector y was passed when a 1d array was expected. Please change the shape of y to (n_samples, ), for example using ravel().\n",
      "  return f(*args, **kwargs)\n"
     ]
    }
   ],
   "source": [
    "#Predictions and evalua\n",
    "sv = svclassifier.fit(X_train, y_train)\n",
    "y_prediction = svclassifier.predict(X_test)\n",
    "from sklearn.metrics import classification_report, confusion_matrix\n",
    "from sklearn.metrics import plot_confusion_matrix\n",
    "print(confusion_matrix(y_test,y_prediction))\n",
    "print(classification_report(y_test,y_prediction))\n"
   ]
  },
  {
   "cell_type": "markdown",
   "metadata": {},
   "source": [
    "***Everything is being classified into a single class! Use Grid Search to search for the best parameters! (Scikitlearn GridSearchCV)***\n"
   ]
  },
  {
   "cell_type": "code",
   "execution_count": 33,
   "metadata": {},
   "outputs": [
    {
     "output_type": "stream",
     "name": "stdout",
     "text": [
      "time: 876 µs\n"
     ]
    }
   ],
   "source": [
    "#Set parameters\n",
    "\n",
    "from sklearn.model_selection import GridSearchCV\n",
    "\n",
    "param_grid = {'C':[0.1, 1, 10, 100], 'gamma': [1,0.1,0.01,0.001], 'kernel': ['rbf', 'poly', 'sigmoid']}\n",
    "\n"
   ]
  },
  {
   "cell_type": "code",
   "execution_count": 34,
   "metadata": {
    "tags": [
     "outputPrepend"
    ]
   },
   "outputs": [
    {
     "output_type": "stream",
     "name": "stdout",
     "text": [
      "] END .............C=0.1, gamma=0.001, kernel=sigmoid; total time=   0.0s\n",
      "[CV 5/5] END .............C=0.1, gamma=0.001, kernel=sigmoid; total time=   0.0s\n",
      "[CV 1/5] END ..............C=0.1, gamma=0.001, kernel=linear; total time=   0.0s\n",
      "[CV 2/5] END ..............C=0.1, gamma=0.001, kernel=linear; total time=   0.0s\n",
      "[CV 3/5] END ..............C=0.1, gamma=0.001, kernel=linear; total time=   0.0s\n",
      "[CV 4/5] END ..............C=0.1, gamma=0.001, kernel=linear; total time=   0.0s\n",
      "[CV 5/5] END ..............C=0.1, gamma=0.001, kernel=linear; total time=   0.0s\n",
      "[CV 1/5] END .......................C=1, gamma=1, kernel=rbf; total time=   0.0s\n",
      "[CV 2/5] END .......................C=1, gamma=1, kernel=rbf; total time=   0.0s\n",
      "[CV 3/5] END .......................C=1, gamma=1, kernel=rbf; total time=   0.0s\n",
      "[CV 4/5] END .......................C=1, gamma=1, kernel=rbf; total time=   0.0s\n",
      "[CV 5/5] END .......................C=1, gamma=1, kernel=rbf; total time=   0.0s\n",
      "[CV 1/5] END ......................C=1, gamma=1, kernel=poly; total time=   0.0s\n",
      "[CV 2/5] END ......................C=1, gamma=1, kernel=poly; total time=   0.0s\n",
      "[CV 3/5] END ......................C=1, gamma=1, kernel=poly; total time=   0.0s\n",
      "[CV 4/5] END ......................C=1, gamma=1, kernel=poly; total time=   0.0s\n",
      "[CV 5/5] END ......................C=1, gamma=1, kernel=poly; total time=   0.0s\n",
      "[CV 1/5] END ...................C=1, gamma=1, kernel=sigmoid; total time=   0.0s\n",
      "[CV 2/5] END ...................C=1, gamma=1, kernel=sigmoid; total time=   0.0s\n",
      "[CV 3/5] END ...................C=1, gamma=1, kernel=sigmoid; total time=   0.0s\n",
      "[CV 4/5] END ...................C=1, gamma=1, kernel=sigmoid; total time=   0.0s\n",
      "[CV 5/5] END ...................C=1, gamma=1, kernel=sigmoid; total time=   0.0s\n",
      "[CV 1/5] END ....................C=1, gamma=1, kernel=linear; total time=   0.0s\n",
      "[CV 2/5] END ....................C=1, gamma=1, kernel=linear; total time=   0.0s\n",
      "[CV 3/5] END ....................C=1, gamma=1, kernel=linear; total time=   0.0s\n",
      "[CV 4/5] END ....................C=1, gamma=1, kernel=linear; total time=   0.0s\n",
      "[CV 5/5] END ....................C=1, gamma=1, kernel=linear; total time=   0.0s\n",
      "[CV 1/5] END .....................C=1, gamma=0.1, kernel=rbf; total time=   0.0s\n",
      "[CV 2/5] END .....................C=1, gamma=0.1, kernel=rbf; total time=   0.0s\n",
      "[CV 3/5] END .....................C=1, gamma=0.1, kernel=rbf; total time=   0.0s\n",
      "[CV 4/5] END .....................C=1, gamma=0.1, kernel=rbf; total time=   0.0s\n",
      "[CV 5/5] END .....................C=1, gamma=0.1, kernel=rbf; total time=   0.0s\n",
      "[CV 1/5] END ....................C=1, gamma=0.1, kernel=poly; total time=   0.0s\n",
      "[CV 2/5] END ....................C=1, gamma=0.1, kernel=poly; total time=   0.0s\n",
      "[CV 3/5] END ....................C=1, gamma=0.1, kernel=poly; total time=   0.0s\n",
      "[CV 4/5] END ....................C=1, gamma=0.1, kernel=poly; total time=   0.0s\n",
      "[CV 5/5] END ....................C=1, gamma=0.1, kernel=poly; total time=   0.0s\n",
      "[CV 1/5] END .................C=1, gamma=0.1, kernel=sigmoid; total time=   0.0s\n",
      "[CV 2/5] END .................C=1, gamma=0.1, kernel=sigmoid; total time=   0.0s\n",
      "[CV 3/5] END .................C=1, gamma=0.1, kernel=sigmoid; total time=   0.0s\n",
      "[CV 4/5] END .................C=1, gamma=0.1, kernel=sigmoid; total time=   0.0s\n",
      "[CV 5/5] END .................C=1, gamma=0.1, kernel=sigmoid; total time=   0.0s\n",
      "[CV 1/5] END ..................C=1, gamma=0.1, kernel=linear; total time=   0.0s\n",
      "[CV 2/5] END ..................C=1, gamma=0.1, kernel=linear; total time=   0.0s\n",
      "[CV 3/5] END ..................C=1, gamma=0.1, kernel=linear; total time=   0.0s\n",
      "[CV 4/5] END ..................C=1, gamma=0.1, kernel=linear; total time=   0.0s\n",
      "[CV 5/5] END ..................C=1, gamma=0.1, kernel=linear; total time=   0.0s\n",
      "[CV 1/5] END ....................C=1, gamma=0.01, kernel=rbf; total time=   0.0s\n",
      "[CV 2/5] END ....................C=1, gamma=0.01, kernel=rbf; total time=   0.0s\n",
      "[CV 3/5] END ....................C=1, gamma=0.01, kernel=rbf; total time=   0.0s\n",
      "[CV 4/5] END ....................C=1, gamma=0.01, kernel=rbf; total time=   0.0s\n",
      "[CV 5/5] END ....................C=1, gamma=0.01, kernel=rbf; total time=   0.0s\n",
      "[CV 1/5] END ...................C=1, gamma=0.01, kernel=poly; total time=   0.0s\n",
      "[CV 2/5] END ...................C=1, gamma=0.01, kernel=poly; total time=   0.0s\n",
      "[CV 3/5] END ...................C=1, gamma=0.01, kernel=poly; total time=   0.0s\n",
      "[CV 4/5] END ...................C=1, gamma=0.01, kernel=poly; total time=   0.0s\n",
      "[CV 5/5] END ...................C=1, gamma=0.01, kernel=poly; total time=   0.0s\n",
      "[CV 1/5] END ................C=1, gamma=0.01, kernel=sigmoid; total time=   0.0s\n",
      "[CV 2/5] END ................C=1, gamma=0.01, kernel=sigmoid; total time=   0.0s\n",
      "[CV 3/5] END ................C=1, gamma=0.01, kernel=sigmoid; total time=   0.0s\n",
      "[CV 4/5] END ................C=1, gamma=0.01, kernel=sigmoid; total time=   0.0s\n",
      "[CV 5/5] END ................C=1, gamma=0.01, kernel=sigmoid; total time=   0.0s\n",
      "[CV 1/5] END .................C=1, gamma=0.01, kernel=linear; total time=   0.0s\n",
      "[CV 2/5] END .................C=1, gamma=0.01, kernel=linear; total time=   0.0s\n",
      "[CV 3/5] END .................C=1, gamma=0.01, kernel=linear; total time=   0.0s\n",
      "[CV 4/5] END .................C=1, gamma=0.01, kernel=linear; total time=   0.0s\n",
      "[CV 5/5] END .................C=1, gamma=0.01, kernel=linear; total time=   0.0s\n",
      "[CV 1/5] END ...................C=1, gamma=0.001, kernel=rbf; total time=   0.0s\n",
      "[CV 2/5] END ...................C=1, gamma=0.001, kernel=rbf; total time=   0.0s\n",
      "[CV 3/5] END ...................C=1, gamma=0.001, kernel=rbf; total time=   0.0s\n",
      "[CV 4/5] END ...................C=1, gamma=0.001, kernel=rbf; total time=   0.0s\n",
      "[CV 5/5] END ...................C=1, gamma=0.001, kernel=rbf; total time=   0.0s\n",
      "[CV 1/5] END ..................C=1, gamma=0.001, kernel=poly; total time=   0.0s\n",
      "[CV 2/5] END ..................C=1, gamma=0.001, kernel=poly; total time=   0.0s\n",
      "[CV 3/5] END ..................C=1, gamma=0.001, kernel=poly; total time=   0.0s\n",
      "[CV 4/5] END ..................C=1, gamma=0.001, kernel=poly; total time=   0.0s\n",
      "[CV 5/5] END ..................C=1, gamma=0.001, kernel=poly; total time=   0.0s\n",
      "[CV 1/5] END ...............C=1, gamma=0.001, kernel=sigmoid; total time=   0.0s\n",
      "[CV 2/5] END ...............C=1, gamma=0.001, kernel=sigmoid; total time=   0.0s\n",
      "[CV 3/5] END ...............C=1, gamma=0.001, kernel=sigmoid; total time=   0.0s\n",
      "[CV 4/5] END ...............C=1, gamma=0.001, kernel=sigmoid; total time=   0.0s\n",
      "[CV 5/5] END ...............C=1, gamma=0.001, kernel=sigmoid; total time=   0.0s\n",
      "[CV 1/5] END ................C=1, gamma=0.001, kernel=linear; total time=   0.0s\n",
      "[CV 2/5] END ................C=1, gamma=0.001, kernel=linear; total time=   0.0s\n",
      "[CV 3/5] END ................C=1, gamma=0.001, kernel=linear; total time=   0.0s\n",
      "[CV 4/5] END ................C=1, gamma=0.001, kernel=linear; total time=   0.0s\n",
      "[CV 5/5] END ................C=1, gamma=0.001, kernel=linear; total time=   0.0s\n",
      "[CV 1/5] END ......................C=10, gamma=1, kernel=rbf; total time=   0.0s\n",
      "[CV 2/5] END ......................C=10, gamma=1, kernel=rbf; total time=   0.0s\n",
      "[CV 3/5] END ......................C=10, gamma=1, kernel=rbf; total time=   0.0s\n",
      "[CV 4/5] END ......................C=10, gamma=1, kernel=rbf; total time=   0.0s\n",
      "[CV 5/5] END ......................C=10, gamma=1, kernel=rbf; total time=   0.0s\n",
      "[CV 1/5] END .....................C=10, gamma=1, kernel=poly; total time=   0.0s\n",
      "[CV 2/5] END .....................C=10, gamma=1, kernel=poly; total time=   0.0s\n",
      "[CV 3/5] END .....................C=10, gamma=1, kernel=poly; total time=   0.0s\n",
      "[CV 4/5] END .....................C=10, gamma=1, kernel=poly; total time=   0.0s\n",
      "[CV 5/5] END .....................C=10, gamma=1, kernel=poly; total time=   0.0s\n",
      "[CV 1/5] END ..................C=10, gamma=1, kernel=sigmoid; total time=   0.0s\n",
      "[CV 2/5] END ..................C=10, gamma=1, kernel=sigmoid; total time=   0.0s\n",
      "[CV 3/5] END ..................C=10, gamma=1, kernel=sigmoid; total time=   0.0s\n",
      "[CV 4/5] END ..................C=10, gamma=1, kernel=sigmoid; total time=   0.0s\n",
      "[CV 5/5] END ..................C=10, gamma=1, kernel=sigmoid; total time=   0.0s\n",
      "[CV 1/5] END ...................C=10, gamma=1, kernel=linear; total time=   0.0s\n",
      "[CV 2/5] END ...................C=10, gamma=1, kernel=linear; total time=   0.0s\n",
      "[CV 3/5] END ...................C=10, gamma=1, kernel=linear; total time=   0.0s\n",
      "[CV 4/5] END ...................C=10, gamma=1, kernel=linear; total time=   0.0s\n",
      "[CV 5/5] END ...................C=10, gamma=1, kernel=linear; total time=   0.0s\n",
      "[CV 1/5] END ....................C=10, gamma=0.1, kernel=rbf; total time=   0.0s\n",
      "[CV 2/5] END ....................C=10, gamma=0.1, kernel=rbf; total time=   0.0s\n",
      "[CV 3/5] END ....................C=10, gamma=0.1, kernel=rbf; total time=   0.0s\n",
      "[CV 4/5] END ....................C=10, gamma=0.1, kernel=rbf; total time=   0.0s\n",
      "[CV 5/5] END ....................C=10, gamma=0.1, kernel=rbf; total time=   0.0s\n",
      "[CV 1/5] END ...................C=10, gamma=0.1, kernel=poly; total time=   0.0s\n",
      "[CV 2/5] END ...................C=10, gamma=0.1, kernel=poly; total time=   0.0s\n",
      "[CV 3/5] END ...................C=10, gamma=0.1, kernel=poly; total time=   0.0s\n",
      "[CV 4/5] END ...................C=10, gamma=0.1, kernel=poly; total time=   0.0s\n",
      "[CV 5/5] END ...................C=10, gamma=0.1, kernel=poly; total time=   0.0s\n",
      "[CV 1/5] END ................C=10, gamma=0.1, kernel=sigmoid; total time=   0.0s\n",
      "[CV 2/5] END ................C=10, gamma=0.1, kernel=sigmoid; total time=   0.0s\n",
      "[CV 3/5] END ................C=10, gamma=0.1, kernel=sigmoid; total time=   0.0s\n",
      "[CV 4/5] END ................C=10, gamma=0.1, kernel=sigmoid; total time=   0.0s\n",
      "[CV 5/5] END ................C=10, gamma=0.1, kernel=sigmoid; total time=   0.0s\n",
      "[CV 1/5] END .................C=10, gamma=0.1, kernel=linear; total time=   0.0s\n",
      "[CV 2/5] END .................C=10, gamma=0.1, kernel=linear; total time=   0.0s\n",
      "[CV 3/5] END .................C=10, gamma=0.1, kernel=linear; total time=   0.0s\n",
      "[CV 4/5] END .................C=10, gamma=0.1, kernel=linear; total time=   0.0s\n",
      "[CV 5/5] END .................C=10, gamma=0.1, kernel=linear; total time=   0.0s\n",
      "[CV 1/5] END ...................C=10, gamma=0.01, kernel=rbf; total time=   0.0s\n",
      "[CV 2/5] END ...................C=10, gamma=0.01, kernel=rbf; total time=   0.0s\n",
      "[CV 3/5] END ...................C=10, gamma=0.01, kernel=rbf; total time=   0.0s\n",
      "[CV 4/5] END ...................C=10, gamma=0.01, kernel=rbf; total time=   0.0s\n",
      "[CV 5/5] END ...................C=10, gamma=0.01, kernel=rbf; total time=   0.0s\n",
      "[CV 1/5] END ..................C=10, gamma=0.01, kernel=poly; total time=   0.0s\n",
      "[CV 2/5] END ..................C=10, gamma=0.01, kernel=poly; total time=   0.0s\n",
      "[CV 3/5] END ..................C=10, gamma=0.01, kernel=poly; total time=   0.0s\n",
      "[CV 4/5] END ..................C=10, gamma=0.01, kernel=poly; total time=   0.0s\n",
      "[CV 5/5] END ..................C=10, gamma=0.01, kernel=poly; total time=   0.0s\n",
      "[CV 1/5] END ...............C=10, gamma=0.01, kernel=sigmoid; total time=   0.0s\n",
      "[CV 2/5] END ...............C=10, gamma=0.01, kernel=sigmoid; total time=   0.0s\n",
      "[CV 3/5] END ...............C=10, gamma=0.01, kernel=sigmoid; total time=   0.0s\n",
      "[CV 4/5] END ...............C=10, gamma=0.01, kernel=sigmoid; total time=   0.0s\n",
      "[CV 5/5] END ...............C=10, gamma=0.01, kernel=sigmoid; total time=   0.0s\n",
      "[CV 1/5] END ................C=10, gamma=0.01, kernel=linear; total time=   0.0s\n",
      "[CV 2/5] END ................C=10, gamma=0.01, kernel=linear; total time=   0.0s\n",
      "[CV 3/5] END ................C=10, gamma=0.01, kernel=linear; total time=   0.0s\n",
      "[CV 4/5] END ................C=10, gamma=0.01, kernel=linear; total time=   0.0s\n",
      "[CV 5/5] END ................C=10, gamma=0.01, kernel=linear; total time=   0.0s\n",
      "[CV 1/5] END ..................C=10, gamma=0.001, kernel=rbf; total time=   0.0s\n",
      "[CV 2/5] END ..................C=10, gamma=0.001, kernel=rbf; total time=   0.0s\n",
      "[CV 3/5] END ..................C=10, gamma=0.001, kernel=rbf; total time=   0.0s\n",
      "[CV 4/5] END ..................C=10, gamma=0.001, kernel=rbf; total time=   0.0s\n",
      "[CV 5/5] END ..................C=10, gamma=0.001, kernel=rbf; total time=   0.0s\n",
      "[CV 1/5] END .................C=10, gamma=0.001, kernel=poly; total time=   0.0s\n",
      "[CV 2/5] END .................C=10, gamma=0.001, kernel=poly; total time=   0.0s\n",
      "[CV 3/5] END .................C=10, gamma=0.001, kernel=poly; total time=   0.0s\n",
      "[CV 4/5] END .................C=10, gamma=0.001, kernel=poly; total time=   0.0s\n",
      "[CV 5/5] END .................C=10, gamma=0.001, kernel=poly; total time=   0.0s\n",
      "[CV 1/5] END ..............C=10, gamma=0.001, kernel=sigmoid; total time=   0.0s\n",
      "[CV 2/5] END ..............C=10, gamma=0.001, kernel=sigmoid; total time=   0.0s\n",
      "[CV 3/5] END ..............C=10, gamma=0.001, kernel=sigmoid; total time=   0.0s\n",
      "[CV 4/5] END ..............C=10, gamma=0.001, kernel=sigmoid; total time=   0.0s\n",
      "[CV 5/5] END ..............C=10, gamma=0.001, kernel=sigmoid; total time=   0.0s\n",
      "[CV 1/5] END ...............C=10, gamma=0.001, kernel=linear; total time=   0.0s\n",
      "[CV 2/5] END ...............C=10, gamma=0.001, kernel=linear; total time=   0.0s\n",
      "[CV 3/5] END ...............C=10, gamma=0.001, kernel=linear; total time=   0.0s\n",
      "[CV 4/5] END ...............C=10, gamma=0.001, kernel=linear; total time=   0.0s\n",
      "[CV 5/5] END ...............C=10, gamma=0.001, kernel=linear; total time=   0.0s\n",
      "[CV 1/5] END .....................C=100, gamma=1, kernel=rbf; total time=   0.0s\n",
      "[CV 2/5] END .....................C=100, gamma=1, kernel=rbf; total time=   0.0s\n",
      "[CV 3/5] END .....................C=100, gamma=1, kernel=rbf; total time=   0.0s\n",
      "[CV 4/5] END .....................C=100, gamma=1, kernel=rbf; total time=   0.0s\n",
      "[CV 5/5] END .....................C=100, gamma=1, kernel=rbf; total time=   0.0s\n",
      "[CV 1/5] END ....................C=100, gamma=1, kernel=poly; total time=   0.0s\n",
      "[CV 2/5] END ....................C=100, gamma=1, kernel=poly; total time=   0.0s\n",
      "[CV 3/5] END ....................C=100, gamma=1, kernel=poly; total time=   0.0s\n",
      "[CV 4/5] END ....................C=100, gamma=1, kernel=poly; total time=   0.0s\n",
      "[CV 5/5] END ....................C=100, gamma=1, kernel=poly; total time=   0.0s\n",
      "[CV 1/5] END .................C=100, gamma=1, kernel=sigmoid; total time=   0.0s\n",
      "[CV 2/5] END .................C=100, gamma=1, kernel=sigmoid; total time=   0.0s\n",
      "[CV 3/5] END .................C=100, gamma=1, kernel=sigmoid; total time=   0.0s\n",
      "[CV 4/5] END .................C=100, gamma=1, kernel=sigmoid; total time=   0.0s\n",
      "[CV 5/5] END .................C=100, gamma=1, kernel=sigmoid; total time=   0.0s\n",
      "[CV 1/5] END ..................C=100, gamma=1, kernel=linear; total time=   0.0s\n",
      "[CV 2/5] END ..................C=100, gamma=1, kernel=linear; total time=   0.0s\n",
      "[CV 3/5] END ..................C=100, gamma=1, kernel=linear; total time=   0.0s\n",
      "[CV 4/5] END ..................C=100, gamma=1, kernel=linear; total time=   0.0s\n",
      "[CV 5/5] END ..................C=100, gamma=1, kernel=linear; total time=   0.0s\n",
      "[CV 1/5] END ...................C=100, gamma=0.1, kernel=rbf; total time=   0.0s\n",
      "[CV 2/5] END ...................C=100, gamma=0.1, kernel=rbf; total time=   0.0s\n",
      "[CV 3/5] END ...................C=100, gamma=0.1, kernel=rbf; total time=   0.0s\n",
      "[CV 4/5] END ...................C=100, gamma=0.1, kernel=rbf; total time=   0.0s\n",
      "[CV 5/5] END ...................C=100, gamma=0.1, kernel=rbf; total time=   0.0s\n",
      "[CV 1/5] END ..................C=100, gamma=0.1, kernel=poly; total time=   0.0s\n",
      "[CV 2/5] END ..................C=100, gamma=0.1, kernel=poly; total time=   0.0s\n",
      "[CV 3/5] END ..................C=100, gamma=0.1, kernel=poly; total time=   0.0s\n",
      "[CV 4/5] END ..................C=100, gamma=0.1, kernel=poly; total time=   0.0s\n",
      "[CV 5/5] END ..................C=100, gamma=0.1, kernel=poly; total time=   0.0s\n",
      "[CV 1/5] END ...............C=100, gamma=0.1, kernel=sigmoid; total time=   0.0s\n",
      "[CV 2/5] END ...............C=100, gamma=0.1, kernel=sigmoid; total time=   0.0s\n",
      "[CV 3/5] END ...............C=100, gamma=0.1, kernel=sigmoid; total time=   0.0s\n",
      "[CV 4/5] END ...............C=100, gamma=0.1, kernel=sigmoid; total time=   0.0s\n",
      "[CV 5/5] END ...............C=100, gamma=0.1, kernel=sigmoid; total time=   0.0s\n",
      "[CV 1/5] END ................C=100, gamma=0.1, kernel=linear; total time=   0.0s\n",
      "[CV 2/5] END ................C=100, gamma=0.1, kernel=linear; total time=   0.0s\n",
      "[CV 3/5] END ................C=100, gamma=0.1, kernel=linear; total time=   0.0s\n",
      "[CV 4/5] END ................C=100, gamma=0.1, kernel=linear; total time=   0.0s\n",
      "[CV 5/5] END ................C=100, gamma=0.1, kernel=linear; total time=   0.0s\n",
      "[CV 1/5] END ..................C=100, gamma=0.01, kernel=rbf; total time=   0.0s\n",
      "[CV 2/5] END ..................C=100, gamma=0.01, kernel=rbf; total time=   0.0s\n",
      "[CV 3/5] END ..................C=100, gamma=0.01, kernel=rbf; total time=   0.0s\n",
      "[CV 4/5] END ..................C=100, gamma=0.01, kernel=rbf; total time=   0.0s\n",
      "[CV 5/5] END ..................C=100, gamma=0.01, kernel=rbf; total time=   0.0s\n",
      "[CV 1/5] END .................C=100, gamma=0.01, kernel=poly; total time=   0.0s\n",
      "[CV 2/5] END .................C=100, gamma=0.01, kernel=poly; total time=   0.0s\n",
      "[CV 3/5] END .................C=100, gamma=0.01, kernel=poly; total time=   0.0s\n",
      "[CV 4/5] END .................C=100, gamma=0.01, kernel=poly; total time=   0.0s\n",
      "[CV 5/5] END .................C=100, gamma=0.01, kernel=poly; total time=   0.0s\n",
      "[CV 1/5] END ..............C=100, gamma=0.01, kernel=sigmoid; total time=   0.0s\n",
      "[CV 2/5] END ..............C=100, gamma=0.01, kernel=sigmoid; total time=   0.0s\n",
      "[CV 3/5] END ..............C=100, gamma=0.01, kernel=sigmoid; total time=   0.0s\n",
      "[CV 4/5] END ..............C=100, gamma=0.01, kernel=sigmoid; total time=   0.0s\n",
      "[CV 5/5] END ..............C=100, gamma=0.01, kernel=sigmoid; total time=   0.0s\n",
      "[CV 1/5] END ...............C=100, gamma=0.01, kernel=linear; total time=   0.0s\n",
      "[CV 2/5] END ...............C=100, gamma=0.01, kernel=linear; total time=   0.0s\n",
      "[CV 3/5] END ...............C=100, gamma=0.01, kernel=linear; total time=   0.0s\n",
      "[CV 4/5] END ...............C=100, gamma=0.01, kernel=linear; total time=   0.0s\n",
      "[CV 5/5] END ...............C=100, gamma=0.01, kernel=linear; total time=   0.0s\n",
      "[CV 1/5] END .................C=100, gamma=0.001, kernel=rbf; total time=   0.0s\n",
      "[CV 2/5] END .................C=100, gamma=0.001, kernel=rbf; total time=   0.0s\n",
      "[CV 3/5] END .................C=100, gamma=0.001, kernel=rbf; total time=   0.0s\n",
      "[CV 4/5] END .................C=100, gamma=0.001, kernel=rbf; total time=   0.0s\n",
      "[CV 5/5] END .................C=100, gamma=0.001, kernel=rbf; total time=   0.0s\n",
      "[CV 1/5] END ................C=100, gamma=0.001, kernel=poly; total time=   0.0s\n",
      "[CV 2/5] END ................C=100, gamma=0.001, kernel=poly; total time=   0.0s\n",
      "[CV 3/5] END ................C=100, gamma=0.001, kernel=poly; total time=   0.0s\n",
      "[CV 4/5] END ................C=100, gamma=0.001, kernel=poly; total time=   0.0s\n",
      "[CV 5/5] END ................C=100, gamma=0.001, kernel=poly; total time=   0.0s\n",
      "[CV 1/5] END .............C=100, gamma=0.001, kernel=sigmoid; total time=   0.0s\n",
      "[CV 2/5] END .............C=100, gamma=0.001, kernel=sigmoid; total time=   0.0s\n",
      "[CV 3/5] END .............C=100, gamma=0.001, kernel=sigmoid; total time=   0.0s\n",
      "[CV 4/5] END .............C=100, gamma=0.001, kernel=sigmoid; total time=   0.0s\n",
      "[CV 5/5] END .............C=100, gamma=0.001, kernel=sigmoid; total time=   0.0s\n",
      "[CV 1/5] END ..............C=100, gamma=0.001, kernel=linear; total time=   0.0s\n",
      "[CV 2/5] END ..............C=100, gamma=0.001, kernel=linear; total time=   0.0s\n",
      "[CV 3/5] END ..............C=100, gamma=0.001, kernel=linear; total time=   0.0s\n",
      "[CV 4/5] END ..............C=100, gamma=0.001, kernel=linear; total time=   0.0s\n",
      "[CV 5/5] END ..............C=100, gamma=0.001, kernel=linear; total time=   0.0s\n"
     ]
    },
    {
     "output_type": "execute_result",
     "data": {
      "text/plain": [
       "GridSearchCV(estimator=SVC(),\n",
       "             param_grid={'C': [0.1, 1, 10, 100], 'gamma': [1, 0.1, 0.01, 0.001],\n",
       "                         'kernel': ['rbf', 'poly', 'sigmoid', 'linear']},\n",
       "             verbose=5)"
      ]
     },
     "metadata": {},
     "execution_count": 34
    },
    {
     "output_type": "stream",
     "name": "stdout",
     "text": [
      "time: 1.86 s\n"
     ]
    }
   ],
   "source": [
    "grid = GridSearchCV(SVC(), param_grid, refit=True, verbose=5)\n",
    "\n",
    "y = y_train\n",
    "y = y.values.ravel()\n",
    "grid.fit(X_train, y)\n"
   ]
  },
  {
   "cell_type": "code",
   "execution_count": 1,
   "metadata": {},
   "outputs": [],
   "source": [
    "#Fit grid (Note to self: first it runs the same loop with cross-validation to find the best parameter combination. Once it has the best combination, it runs fit again on all data passed to fit (without cross-validation), to built a single new model using the best parameter setting.)\n"
   ]
  },
  {
   "cell_type": "code",
   "execution_count": 35,
   "metadata": {},
   "outputs": [
    {
     "output_type": "stream",
     "name": "stdout",
     "text": [
      "SVC(C=10, gamma=0.01)\n[[46  1]\n [ 1 66]]\n              precision    recall  f1-score   support\n\n           0       0.98      0.98      0.98        47\n           1       0.99      0.99      0.99        67\n\n    accuracy                           0.98       114\n   macro avg       0.98      0.98      0.98       114\nweighted avg       0.98      0.98      0.98       114\n\ntime: 12.4 ms\n"
     ]
    }
   ],
   "source": [
    "#Call the best parameters\n",
    "print(grid.best_estimator_)\n",
    "\n",
    "grid_predictions = grid.predict(X_test)\n",
    "print(confusion_matrix(y_test,grid_predictions))\n",
    "print(classification_report(y_test, grid_predictions))"
   ]
  },
  {
   "cell_type": "code",
   "execution_count": 36,
   "metadata": {},
   "outputs": [
    {
     "output_type": "stream",
     "name": "stdout",
     "text": [
      "time: 387 µs\n"
     ]
    }
   ],
   "source": [
    "#print best score"
   ]
  },
  {
   "cell_type": "code",
   "execution_count": 29,
   "metadata": {},
   "outputs": [],
   "source": [
    "# print the confusion matrix"
   ]
  },
  {
   "cell_type": "markdown",
   "metadata": {},
   "source": [
    "# Discussion of results"
   ]
  },
  {
   "cell_type": "code",
   "execution_count": 1,
   "metadata": {},
   "outputs": [],
   "source": []
  }
 ],
 "metadata": {
  "kernelspec": {
   "display_name": "Python 3",
   "language": "python",
   "name": "python3"
  },
  "language_info": {
   "codemirror_mode": {
    "name": "ipython",
    "version": 3
   },
   "file_extension": ".py",
   "mimetype": "text/x-python",
   "name": "python",
   "nbconvert_exporter": "python",
   "pygments_lexer": "ipython3",
   "version": "3.9.1-final"
  }
 },
 "nbformat": 4,
 "nbformat_minor": 2
}